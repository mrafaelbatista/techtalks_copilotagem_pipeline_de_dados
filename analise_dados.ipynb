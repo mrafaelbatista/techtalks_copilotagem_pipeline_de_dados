{
 "cells": [
  {
   "cell_type": "markdown",
   "id": "356a7244",
   "metadata": {},
   "source": [
    "# Análise de Dados de Student Performance\n",
    "\n",
    "Base de Dados\n",
    "Cortez, Paulo. 2008. Student Performance. UCI Machine Learning Repository. https://doi.org/10.24432/C5TG7T.\n",
    "\n",
    "Paper\n",
    "Cortez, P. and A. M. Gonçalves Silva. “Using data mining to predict secondary school student performance.” (2008).\n"
   ]
  },
  {
   "cell_type": "markdown",
   "id": "b6de29e3",
   "metadata": {},
   "source": [
    "## Características dos Dados\n",
    "\n",
    "1 school - escola do estudante (binário: \"GP\" - Gabriel Pereira ou \"MS\" - Mousinho da Silveira)<br />\n",
    "2 sex - sexo do estudante (binário: \"F\" - feminino ou \"M\" - masculino)<br />\n",
    "3 age - idade do estudante (numérico: de 15 a 22)<br />\n",
    "4 address - tipo de endereço residencial do estudante (binário: \"U\" - urbano ou \"R\" - rural)<br />\n",
    "5 famsize - tamanho da família (binário: \"LE3\" - menor ou igual a 3 ou \"GT3\" - maior que 3)<br />\n",
    "6 Pstatus - status de coabitação dos pais (binário: \"T\" - vivendo juntos ou \"A\" - separados)<br />\n",
    "7 Medu - escolaridade da mãe (numérico: 0 - nenhuma, 1 - ensino primário (4ª série), 2 - 5ª a 9ª série, 3 - ensino médio ou 4 - ensino superior)<br />\n",
    "8 Fedu - escolaridade do pai (numérico: 0 - nenhuma, 1 - ensino primário (4ª série), 2 - 5ª a 9ª série, 3 - ensino médio ou 4 - ensino superior)<br />\n",
    "9 Mjob - profissão da mãe (nominal: \"professora\", relacionada à \"saúde\", serviços \"civis\" (ex.: administrativo ou policial), \"em_casa\" ou \"outro\")<br />\n",
    "10 Fjob - profissão do pai (nominal: \"professor\", relacionada à \"saúde\", serviços \"civis\" (ex.: administrativo ou policial), \"em_casa\" ou \"outro\")<br />\n",
    "11 reason - motivo para escolher esta escola (nominal: próximo de \"casa\", \"reputação\" da escola, preferência pelo \"curso\" ou \"outro\")<br />\n",
    "12 guardian - responsável pelo estudante (nominal: \"mãe\", \"pai\" ou \"outro\")<br />\n",
    "13 traveltime - tempo de viagem de casa para a escola (numérico: 1 - <15 min., 2 - 15 a 30 min., 3 - 30 min. a 1 hora, ou 4 - >1 hora)<br />\n",
    "14 studytime - tempo semanal de estudo (numérico: 1 - <2 horas, 2 - 2 a 5 horas, 3 - 5 a 10 horas, ou 4 - >10 horas)<br />\n",
    "15 failures - número de reprovações anteriores (numérico: n se 1<=n<3, caso contrário 4)<br />\n",
    "16 schoolsup - suporte educacional extra (binário: sim ou não)<br />\n",
    "17 famsup - suporte educacional familiar (binário: sim ou não)<br />\n",
    "18 paid - aulas extras pagas dentro da disciplina do curso (Matemática ou Português) (binário: sim ou não)<br />\n",
    "19 activities - atividades extracurriculares (binário: sim ou não)<br />\n",
    "20 nursery - frequentou escola infantil (binário: sim ou não)<br />\n",
    "21 higher - deseja cursar ensino superior (binário: sim ou não)<br />\n",
    "22 internet - acesso à Internet em casa (binário: sim ou não)<br />\n",
    "23 romantic - em um relacionamento amoroso (binário: sim ou não)<br />\n",
    "24 famrel - qualidade das relações familiares (numérico: de 1 - muito ruim a 5 - excelente)<br />\n",
    "25 freetime - tempo livre após a escola (numérico: de 1 - muito baixo a 5 - muito alto)<br />\n",
    "26 goout - sair com amigos (numérico: de 1 - muito baixo a 5 - muito alto)<br />\n",
    "27 Dalc - consumo de álcool durante a semana (numérico: de 1 - muito baixo a 5 - muito alto)<br />\n",
    "28 Walc - consumo de álcool no final de semana (numérico: de 1 - muito baixo a 5 - muito alto)<br />\n",
    "29 health - estado atual de saúde (numérico: de 1 - muito ruim a 5 - muito bom)<br />\n",
    "30 absences - número de faltas escolares (numérico: de 0 a 93)<br />"
   ]
  },
  {
   "cell_type": "markdown",
   "id": "2f7687be",
   "metadata": {},
   "source": [
    "## Importações de bibliotecas\n",
    "Importe as bibliotecas de análise de dados e do sklearn para classificação"
   ]
  },
  {
   "cell_type": "code",
   "id": "b128ab0a",
   "metadata": {
    "ExecuteTime": {
     "end_time": "2025-05-13T23:22:21.656963Z",
     "start_time": "2025-05-13T23:22:15.449637Z"
    }
   },
   "source": [
    "# Importação de bibliotecas para análise de dados\n",
    "import pandas as pd\n",
    "import numpy as np\n",
    "# Importação de bibliotecas para visualização de dados\n",
    "import matplotlib.pyplot as plt\n",
    "import seaborn as sns\n",
    "# Importação de bibliotecas do sklearn para classificação\n",
    "from sklearn.model_selection import train_test_split\n",
    "from sklearn.ensemble import RandomForestClassifier\n",
    "from sklearn.metrics import classification_report, confusion_matrix, accuracy_score"
   ],
   "outputs": [],
   "execution_count": 2
  },
  {
   "cell_type": "markdown",
   "id": "d23bba90",
   "metadata": {},
   "source": [
    "## Leitura do arquivo em CSV\n",
    "Leia o arquivo student-mat.csv e armazene os dados em um DataFrame\n"
   ]
  },
  {
   "metadata": {
    "ExecuteTime": {
     "end_time": "2025-05-13T23:23:04.889491Z",
     "start_time": "2025-05-13T23:23:04.870480Z"
    }
   },
   "cell_type": "code",
   "source": [
    "# Leia o arquivo csv student-mat.csv\n",
    "df = pd.read_csv('student-mat.csv', sep=';')"
   ],
   "id": "a6cd7b97e6912d28",
   "outputs": [],
   "execution_count": 3
  },
  {
   "metadata": {
    "ExecuteTime": {
     "end_time": "2025-05-13T23:23:16.624506Z",
     "start_time": "2025-05-13T23:23:16.606549Z"
    }
   },
   "cell_type": "code",
   "source": "df.head()",
   "id": "b16ba6e8df004ba0",
   "outputs": [
    {
     "data": {
      "text/plain": [
       "  school sex  age address famsize Pstatus  Medu  Fedu     Mjob      Fjob  ...  \\\n",
       "0     GP   F   18       U     GT3       A     4     4  at_home   teacher  ...   \n",
       "1     GP   F   17       U     GT3       T     1     1  at_home     other  ...   \n",
       "2     GP   F   15       U     LE3       T     1     1  at_home     other  ...   \n",
       "3     GP   F   15       U     GT3       T     4     2   health  services  ...   \n",
       "4     GP   F   16       U     GT3       T     3     3    other     other  ...   \n",
       "\n",
       "  famrel freetime  goout  Dalc  Walc health absences  G1  G2  G3  \n",
       "0      4        3      4     1     1      3        6   5   6   6  \n",
       "1      5        3      3     1     1      3        4   5   5   6  \n",
       "2      4        3      2     2     3      3       10   7   8  10  \n",
       "3      3        2      2     1     1      5        2  15  14  15  \n",
       "4      4        3      2     1     2      5        4   6  10  10  \n",
       "\n",
       "[5 rows x 33 columns]"
      ],
      "text/html": [
       "<div>\n",
       "<style scoped>\n",
       "    .dataframe tbody tr th:only-of-type {\n",
       "        vertical-align: middle;\n",
       "    }\n",
       "\n",
       "    .dataframe tbody tr th {\n",
       "        vertical-align: top;\n",
       "    }\n",
       "\n",
       "    .dataframe thead th {\n",
       "        text-align: right;\n",
       "    }\n",
       "</style>\n",
       "<table border=\"1\" class=\"dataframe\">\n",
       "  <thead>\n",
       "    <tr style=\"text-align: right;\">\n",
       "      <th></th>\n",
       "      <th>school</th>\n",
       "      <th>sex</th>\n",
       "      <th>age</th>\n",
       "      <th>address</th>\n",
       "      <th>famsize</th>\n",
       "      <th>Pstatus</th>\n",
       "      <th>Medu</th>\n",
       "      <th>Fedu</th>\n",
       "      <th>Mjob</th>\n",
       "      <th>Fjob</th>\n",
       "      <th>...</th>\n",
       "      <th>famrel</th>\n",
       "      <th>freetime</th>\n",
       "      <th>goout</th>\n",
       "      <th>Dalc</th>\n",
       "      <th>Walc</th>\n",
       "      <th>health</th>\n",
       "      <th>absences</th>\n",
       "      <th>G1</th>\n",
       "      <th>G2</th>\n",
       "      <th>G3</th>\n",
       "    </tr>\n",
       "  </thead>\n",
       "  <tbody>\n",
       "    <tr>\n",
       "      <th>0</th>\n",
       "      <td>GP</td>\n",
       "      <td>F</td>\n",
       "      <td>18</td>\n",
       "      <td>U</td>\n",
       "      <td>GT3</td>\n",
       "      <td>A</td>\n",
       "      <td>4</td>\n",
       "      <td>4</td>\n",
       "      <td>at_home</td>\n",
       "      <td>teacher</td>\n",
       "      <td>...</td>\n",
       "      <td>4</td>\n",
       "      <td>3</td>\n",
       "      <td>4</td>\n",
       "      <td>1</td>\n",
       "      <td>1</td>\n",
       "      <td>3</td>\n",
       "      <td>6</td>\n",
       "      <td>5</td>\n",
       "      <td>6</td>\n",
       "      <td>6</td>\n",
       "    </tr>\n",
       "    <tr>\n",
       "      <th>1</th>\n",
       "      <td>GP</td>\n",
       "      <td>F</td>\n",
       "      <td>17</td>\n",
       "      <td>U</td>\n",
       "      <td>GT3</td>\n",
       "      <td>T</td>\n",
       "      <td>1</td>\n",
       "      <td>1</td>\n",
       "      <td>at_home</td>\n",
       "      <td>other</td>\n",
       "      <td>...</td>\n",
       "      <td>5</td>\n",
       "      <td>3</td>\n",
       "      <td>3</td>\n",
       "      <td>1</td>\n",
       "      <td>1</td>\n",
       "      <td>3</td>\n",
       "      <td>4</td>\n",
       "      <td>5</td>\n",
       "      <td>5</td>\n",
       "      <td>6</td>\n",
       "    </tr>\n",
       "    <tr>\n",
       "      <th>2</th>\n",
       "      <td>GP</td>\n",
       "      <td>F</td>\n",
       "      <td>15</td>\n",
       "      <td>U</td>\n",
       "      <td>LE3</td>\n",
       "      <td>T</td>\n",
       "      <td>1</td>\n",
       "      <td>1</td>\n",
       "      <td>at_home</td>\n",
       "      <td>other</td>\n",
       "      <td>...</td>\n",
       "      <td>4</td>\n",
       "      <td>3</td>\n",
       "      <td>2</td>\n",
       "      <td>2</td>\n",
       "      <td>3</td>\n",
       "      <td>3</td>\n",
       "      <td>10</td>\n",
       "      <td>7</td>\n",
       "      <td>8</td>\n",
       "      <td>10</td>\n",
       "    </tr>\n",
       "    <tr>\n",
       "      <th>3</th>\n",
       "      <td>GP</td>\n",
       "      <td>F</td>\n",
       "      <td>15</td>\n",
       "      <td>U</td>\n",
       "      <td>GT3</td>\n",
       "      <td>T</td>\n",
       "      <td>4</td>\n",
       "      <td>2</td>\n",
       "      <td>health</td>\n",
       "      <td>services</td>\n",
       "      <td>...</td>\n",
       "      <td>3</td>\n",
       "      <td>2</td>\n",
       "      <td>2</td>\n",
       "      <td>1</td>\n",
       "      <td>1</td>\n",
       "      <td>5</td>\n",
       "      <td>2</td>\n",
       "      <td>15</td>\n",
       "      <td>14</td>\n",
       "      <td>15</td>\n",
       "    </tr>\n",
       "    <tr>\n",
       "      <th>4</th>\n",
       "      <td>GP</td>\n",
       "      <td>F</td>\n",
       "      <td>16</td>\n",
       "      <td>U</td>\n",
       "      <td>GT3</td>\n",
       "      <td>T</td>\n",
       "      <td>3</td>\n",
       "      <td>3</td>\n",
       "      <td>other</td>\n",
       "      <td>other</td>\n",
       "      <td>...</td>\n",
       "      <td>4</td>\n",
       "      <td>3</td>\n",
       "      <td>2</td>\n",
       "      <td>1</td>\n",
       "      <td>2</td>\n",
       "      <td>5</td>\n",
       "      <td>4</td>\n",
       "      <td>6</td>\n",
       "      <td>10</td>\n",
       "      <td>10</td>\n",
       "    </tr>\n",
       "  </tbody>\n",
       "</table>\n",
       "<p>5 rows × 33 columns</p>\n",
       "</div>"
      ]
     },
     "execution_count": 4,
     "metadata": {},
     "output_type": "execute_result"
    }
   ],
   "execution_count": 4
  },
  {
   "cell_type": "markdown",
   "id": "b91525e9",
   "metadata": {},
   "source": [
    "## Tratamento dos Dados"
   ]
  },
  {
   "cell_type": "markdown",
   "id": "b9360807",
   "metadata": {},
   "source": [
    "### Identificar valores nulos\n",
    "Verificar a existência de valores ausentes"
   ]
  },
  {
   "cell_type": "code",
   "id": "d9f81daa",
   "metadata": {
    "ExecuteTime": {
     "end_time": "2025-05-13T23:24:22.147515Z",
     "start_time": "2025-05-13T23:24:22.138019Z"
    }
   },
   "source": [
    "# Verificar se existem valores nulos em df\n",
    "df.isnull().sum()"
   ],
   "outputs": [
    {
     "data": {
      "text/plain": [
       "school        0\n",
       "sex           0\n",
       "age           0\n",
       "address       0\n",
       "famsize       0\n",
       "Pstatus       0\n",
       "Medu          0\n",
       "Fedu          0\n",
       "Mjob          0\n",
       "Fjob          0\n",
       "reason        0\n",
       "guardian      0\n",
       "traveltime    0\n",
       "studytime     0\n",
       "failures      0\n",
       "schoolsup     0\n",
       "famsup        0\n",
       "paid          0\n",
       "activities    0\n",
       "nursery       0\n",
       "higher        0\n",
       "internet      0\n",
       "romantic      0\n",
       "famrel        0\n",
       "freetime      0\n",
       "goout         0\n",
       "Dalc          0\n",
       "Walc          0\n",
       "health        0\n",
       "absences      0\n",
       "G1            0\n",
       "G2            0\n",
       "G3            0\n",
       "dtype: int64"
      ]
     },
     "execution_count": 5,
     "metadata": {},
     "output_type": "execute_result"
    }
   ],
   "execution_count": 5
  },
  {
   "cell_type": "markdown",
   "id": "7d498ba8",
   "metadata": {},
   "source": [
    "### Identificar valores categóricos\n",
    "Identificar as colunas categóricas e colocar em uma lista"
   ]
  },
  {
   "cell_type": "code",
   "id": "562ce3af",
   "metadata": {
    "ExecuteTime": {
     "end_time": "2025-05-13T23:26:30.623062Z",
     "start_time": "2025-05-13T23:26:30.618019Z"
    }
   },
   "source": [
    "# Identificar colunas categóricas e armazenar em uma lista\n",
    "categorical_columns = df.select_dtypes(include=['object']).columns.tolist()\n",
    "\n",
    "# Exibir as colunas categóricas\n",
    "print(f\"Colunas categóricas: {categorical_columns}\")"
   ],
   "outputs": [
    {
     "name": "stdout",
     "output_type": "stream",
     "text": [
      "Colunas categóricas: ['school', 'sex', 'address', 'famsize', 'Pstatus', 'Mjob', 'Fjob', 'reason', 'guardian', 'schoolsup', 'famsup', 'paid', 'activities', 'nursery', 'higher', 'internet', 'romantic']\n"
     ]
    }
   ],
   "execution_count": 7
  },
  {
   "cell_type": "markdown",
   "id": "c33aed66",
   "metadata": {},
   "source": [
    "Aplicar one-hot enconding"
   ]
  },
  {
   "cell_type": "code",
   "id": "75bc7558",
   "metadata": {
    "ExecuteTime": {
     "end_time": "2025-05-13T23:28:54.777341Z",
     "start_time": "2025-05-13T23:28:54.739072Z"
    }
   },
   "source": [
    "# Aplicar one-hot encoding nas colunas categóricas\n",
    "df = pd.get_dummies(df, columns=categorical_columns)\n",
    "\n",
    "# Exibir as 5 primeiras linhas do DataFrame\n",
    "df.head()"
   ],
   "outputs": [
    {
     "data": {
      "text/plain": [
       "   age  Medu  Fedu  traveltime  studytime  failures  famrel  freetime  goout  \\\n",
       "0   18     4     4           2          2         0       4         3      4   \n",
       "1   17     1     1           1          2         0       5         3      3   \n",
       "2   15     1     1           1          2         3       4         3      2   \n",
       "3   15     4     2           1          3         0       3         2      2   \n",
       "4   16     3     3           1          2         0       4         3      2   \n",
       "\n",
       "   Dalc  ...  activities_no  activities_yes  nursery_no  nursery_yes  \\\n",
       "0     1  ...           True           False       False         True   \n",
       "1     1  ...           True           False        True        False   \n",
       "2     2  ...           True           False       False         True   \n",
       "3     1  ...          False            True       False         True   \n",
       "4     1  ...           True           False       False         True   \n",
       "\n",
       "   higher_no  higher_yes  internet_no  internet_yes  romantic_no  romantic_yes  \n",
       "0      False        True         True         False         True         False  \n",
       "1      False        True        False          True         True         False  \n",
       "2      False        True        False          True         True         False  \n",
       "3      False        True        False          True        False          True  \n",
       "4      False        True         True         False         True         False  \n",
       "\n",
       "[5 rows x 59 columns]"
      ],
      "text/html": [
       "<div>\n",
       "<style scoped>\n",
       "    .dataframe tbody tr th:only-of-type {\n",
       "        vertical-align: middle;\n",
       "    }\n",
       "\n",
       "    .dataframe tbody tr th {\n",
       "        vertical-align: top;\n",
       "    }\n",
       "\n",
       "    .dataframe thead th {\n",
       "        text-align: right;\n",
       "    }\n",
       "</style>\n",
       "<table border=\"1\" class=\"dataframe\">\n",
       "  <thead>\n",
       "    <tr style=\"text-align: right;\">\n",
       "      <th></th>\n",
       "      <th>age</th>\n",
       "      <th>Medu</th>\n",
       "      <th>Fedu</th>\n",
       "      <th>traveltime</th>\n",
       "      <th>studytime</th>\n",
       "      <th>failures</th>\n",
       "      <th>famrel</th>\n",
       "      <th>freetime</th>\n",
       "      <th>goout</th>\n",
       "      <th>Dalc</th>\n",
       "      <th>...</th>\n",
       "      <th>activities_no</th>\n",
       "      <th>activities_yes</th>\n",
       "      <th>nursery_no</th>\n",
       "      <th>nursery_yes</th>\n",
       "      <th>higher_no</th>\n",
       "      <th>higher_yes</th>\n",
       "      <th>internet_no</th>\n",
       "      <th>internet_yes</th>\n",
       "      <th>romantic_no</th>\n",
       "      <th>romantic_yes</th>\n",
       "    </tr>\n",
       "  </thead>\n",
       "  <tbody>\n",
       "    <tr>\n",
       "      <th>0</th>\n",
       "      <td>18</td>\n",
       "      <td>4</td>\n",
       "      <td>4</td>\n",
       "      <td>2</td>\n",
       "      <td>2</td>\n",
       "      <td>0</td>\n",
       "      <td>4</td>\n",
       "      <td>3</td>\n",
       "      <td>4</td>\n",
       "      <td>1</td>\n",
       "      <td>...</td>\n",
       "      <td>True</td>\n",
       "      <td>False</td>\n",
       "      <td>False</td>\n",
       "      <td>True</td>\n",
       "      <td>False</td>\n",
       "      <td>True</td>\n",
       "      <td>True</td>\n",
       "      <td>False</td>\n",
       "      <td>True</td>\n",
       "      <td>False</td>\n",
       "    </tr>\n",
       "    <tr>\n",
       "      <th>1</th>\n",
       "      <td>17</td>\n",
       "      <td>1</td>\n",
       "      <td>1</td>\n",
       "      <td>1</td>\n",
       "      <td>2</td>\n",
       "      <td>0</td>\n",
       "      <td>5</td>\n",
       "      <td>3</td>\n",
       "      <td>3</td>\n",
       "      <td>1</td>\n",
       "      <td>...</td>\n",
       "      <td>True</td>\n",
       "      <td>False</td>\n",
       "      <td>True</td>\n",
       "      <td>False</td>\n",
       "      <td>False</td>\n",
       "      <td>True</td>\n",
       "      <td>False</td>\n",
       "      <td>True</td>\n",
       "      <td>True</td>\n",
       "      <td>False</td>\n",
       "    </tr>\n",
       "    <tr>\n",
       "      <th>2</th>\n",
       "      <td>15</td>\n",
       "      <td>1</td>\n",
       "      <td>1</td>\n",
       "      <td>1</td>\n",
       "      <td>2</td>\n",
       "      <td>3</td>\n",
       "      <td>4</td>\n",
       "      <td>3</td>\n",
       "      <td>2</td>\n",
       "      <td>2</td>\n",
       "      <td>...</td>\n",
       "      <td>True</td>\n",
       "      <td>False</td>\n",
       "      <td>False</td>\n",
       "      <td>True</td>\n",
       "      <td>False</td>\n",
       "      <td>True</td>\n",
       "      <td>False</td>\n",
       "      <td>True</td>\n",
       "      <td>True</td>\n",
       "      <td>False</td>\n",
       "    </tr>\n",
       "    <tr>\n",
       "      <th>3</th>\n",
       "      <td>15</td>\n",
       "      <td>4</td>\n",
       "      <td>2</td>\n",
       "      <td>1</td>\n",
       "      <td>3</td>\n",
       "      <td>0</td>\n",
       "      <td>3</td>\n",
       "      <td>2</td>\n",
       "      <td>2</td>\n",
       "      <td>1</td>\n",
       "      <td>...</td>\n",
       "      <td>False</td>\n",
       "      <td>True</td>\n",
       "      <td>False</td>\n",
       "      <td>True</td>\n",
       "      <td>False</td>\n",
       "      <td>True</td>\n",
       "      <td>False</td>\n",
       "      <td>True</td>\n",
       "      <td>False</td>\n",
       "      <td>True</td>\n",
       "    </tr>\n",
       "    <tr>\n",
       "      <th>4</th>\n",
       "      <td>16</td>\n",
       "      <td>3</td>\n",
       "      <td>3</td>\n",
       "      <td>1</td>\n",
       "      <td>2</td>\n",
       "      <td>0</td>\n",
       "      <td>4</td>\n",
       "      <td>3</td>\n",
       "      <td>2</td>\n",
       "      <td>1</td>\n",
       "      <td>...</td>\n",
       "      <td>True</td>\n",
       "      <td>False</td>\n",
       "      <td>False</td>\n",
       "      <td>True</td>\n",
       "      <td>False</td>\n",
       "      <td>True</td>\n",
       "      <td>True</td>\n",
       "      <td>False</td>\n",
       "      <td>True</td>\n",
       "      <td>False</td>\n",
       "    </tr>\n",
       "  </tbody>\n",
       "</table>\n",
       "<p>5 rows × 59 columns</p>\n",
       "</div>"
      ]
     },
     "execution_count": 8,
     "metadata": {},
     "output_type": "execute_result"
    }
   ],
   "execution_count": 8
  },
  {
   "cell_type": "markdown",
   "id": "6237431c",
   "metadata": {},
   "source": [
    "#### Criar coluna pass_fail"
   ]
  },
  {
   "cell_type": "code",
   "id": "b763703a",
   "metadata": {
    "ExecuteTime": {
     "end_time": "2025-05-13T23:31:01.052776Z",
     "start_time": "2025-05-13T23:31:01.040743Z"
    }
   },
   "source": [
    "# Crie em df uma coluna pass_fail a partir da nota de G3\n",
    "# Se G3 >= 10, então 'pass', caso contrário 'fail'\n",
    "df['pass_fail'] = np.where(df['G3'] >= 10, 'pass', 'fail')"
   ],
   "outputs": [],
   "execution_count": 9
  },
  {
   "metadata": {
    "ExecuteTime": {
     "end_time": "2025-05-13T23:33:10.945425Z",
     "start_time": "2025-05-13T23:33:10.940519Z"
    }
   },
   "cell_type": "code",
   "source": [
    "# Exibir as 5 primeiras linhas das colunas G3 e pass_fail\n",
    "print(df[['G3', 'pass_fail']].head())"
   ],
   "id": "cfc78f55b463ed63",
   "outputs": [
    {
     "name": "stdout",
     "output_type": "stream",
     "text": [
      "   G3 pass_fail\n",
      "0   6      fail\n",
      "1   6      fail\n",
      "2  10      pass\n",
      "3  15      pass\n",
      "4  10      pass\n"
     ]
    }
   ],
   "execution_count": 11
  },
  {
   "cell_type": "markdown",
   "id": "4e0d344e",
   "metadata": {},
   "source": [
    "## Análise dos dados"
   ]
  },
  {
   "cell_type": "markdown",
   "id": "0d9e9dcc",
   "metadata": {},
   "source": [
    "### Correlação entre as notas"
   ]
  },
  {
   "cell_type": "markdown",
   "id": "49a0a47a",
   "metadata": {},
   "source": [
    "Calcular a correlação entre G1, G2 e G3 e apresentar o resultado em gráfico de calor e analisar os resultados"
   ]
  },
  {
   "cell_type": "code",
   "id": "7db92ce7",
   "metadata": {
    "ExecuteTime": {
     "end_time": "2025-05-13T23:34:15.771471Z",
     "start_time": "2025-05-13T23:34:15.655327Z"
    }
   },
   "source": [
    "# Calcular a correlação entre G1, G2 e G3 e apresentar em um gráfico de calor\n",
    "correlation = df[['G1', 'G2', 'G3']].corr()\n",
    "plt.figure(figsize=(8, 6))\n",
    "sns.heatmap(correlation, annot=True, cmap='coolwarm', fmt=\".2f\")\n",
    "plt.title('Correlação entre G1, G2 e G3')\n",
    "plt.show()"
   ],
   "outputs": [
    {
     "data": {
      "text/plain": [
       "<Figure size 800x600 with 2 Axes>"
      ],
      "image/png": "[encoded data removed]"
     },
     "metadata": {},
     "output_type": "display_data"
    }
   ],
   "execution_count": 13
  },
  {
   "cell_type": "markdown",
   "id": "0be9428d",
   "metadata": {},
   "source": [
    "Nota média por tempo de estudo (study time) - *Chat"
   ]
  },
  {
   "cell_type": "code",
   "id": "f363384d",
   "metadata": {
    "ExecuteTime": {
     "end_time": "2025-05-13T23:35:05.856382Z",
     "start_time": "2025-05-13T23:35:05.844458Z"
    }
   },
   "source": [
    "# Calcular a média de G3 por tempo de estudo\n",
    "mean_g3_by_study_time = df.groupby('studytime')['G3'].mean().reset_index()\n",
    "# Exibir a média de G3 por tempo de estudo\n",
    "print(mean_g3_by_study_time)"
   ],
   "outputs": [
    {
     "name": "stdout",
     "output_type": "stream",
     "text": [
      "   studytime         G3\n",
      "0          1  10.047619\n",
      "1          2  10.171717\n",
      "2          3  11.400000\n",
      "3          4  11.259259\n"
     ]
    }
   ],
   "execution_count": 14
  },
  {
   "cell_type": "markdown",
   "id": "af670060",
   "metadata": {},
   "source": [
    "# Feature Selection\n",
    "Mutual info classification do sklearn"
   ]
  },
  {
   "cell_type": "code",
   "id": "4435999f",
   "metadata": {
    "ExecuteTime": {
     "end_time": "2025-05-13T23:37:34.514559Z",
     "start_time": "2025-05-13T23:37:34.413065Z"
    }
   },
   "source": [
    "#  Apresente as 10 variáveis mais importantes para a classificação utilizando o mutual info classification\n",
    "from sklearn.feature_selection import mutual_info_classif\n",
    "\n",
    "# Separar as variáveis independentes (X) e a variável dependente (y)\n",
    "# Remova apenas a coluna G3 e a coluna pass_fail\n",
    "X = df.drop(columns=['G3', 'pass_fail'])\n",
    "y = df['G3']\n",
    "\n",
    "# Calcular a importância das variáveis\n",
    "mutual_info = mutual_info_classif(X, y, discrete_features=True)\n",
    "# Criar um DataFrame com as variáveis e suas importâncias\n",
    "importance_df = pd.DataFrame({'Feature': X.columns, 'Importance': mutual_info})\n",
    "\n",
    "# Ordenar o DataFrame pela importância\n",
    "importance_df = importance_df.sort_values(by='Importance', ascending=False)\n",
    "# Exibir as 10 variáveis mais importantes\n",
    "print(importance_df.head(10))\n",
    "\n"
   ],
   "outputs": [
    {
     "name": "stdout",
     "output_type": "stream",
     "text": [
      "     Feature  Importance\n",
      "14        G2    1.422767\n",
      "13        G1    0.914258\n",
      "12  absences    0.578319\n",
      "5   failures    0.150042\n",
      "0        age    0.113711\n",
      "10      Walc    0.110130\n",
      "1       Medu    0.097282\n",
      "8      goout    0.096442\n",
      "9       Dalc    0.095026\n",
      "11    health    0.085802\n"
     ]
    }
   ],
   "execution_count": 15
  }
 ],
 "metadata": {
  "kernelspec": {
   "display_name": "venv",
   "language": "python",
   "name": "python3"
  },
  "language_info": {
   "codemirror_mode": {
    "name": "ipython",
    "version": 3
   },
   "file_extension": ".py",
   "mimetype": "text/x-python",
   "name": "python",
   "nbconvert_exporter": "python",
   "pygments_lexer": "ipython3",
   "version": "3.11.6"
  }
 },
 "nbformat": 4,
 "nbformat_minor": 5
}
