{
 "cells": [
  {
   "cell_type": "markdown",
   "id": "356a7244",
   "metadata": {},
   "source": [
    "# Análise de Dados de Student Performance\n",
    "\n",
    "Base de Dados\n",
    "Cortez, Paulo. 2008. Student Performance. UCI Machine Learning Repository. https://doi.org/10.24432/C5TG7T.\n",
    "\n",
    "Paper\n",
    "Cortez, P. and A. M. Gonçalves Silva. “Using data mining to predict secondary school student performance.” (2008).\n"
   ]
  },
  {
   "cell_type": "markdown",
   "id": "b6de29e3",
   "metadata": {},
   "source": [
    "## Características dos Dados\n",
    "\n",
    "1 school - escola do estudante (binário: \"GP\" - Gabriel Pereira ou \"MS\" - Mousinho da Silveira)<br />\n",
    "2 sex - sexo do estudante (binário: \"F\" - feminino ou \"M\" - masculino)<br />\n",
    "3 age - idade do estudante (numérico: de 15 a 22)<br />\n",
    "4 address - tipo de endereço residencial do estudante (binário: \"U\" - urbano ou \"R\" - rural)<br />\n",
    "5 famsize - tamanho da família (binário: \"LE3\" - menor ou igual a 3 ou \"GT3\" - maior que 3)<br />\n",
    "6 Pstatus - status de coabitação dos pais (binário: \"T\" - vivendo juntos ou \"A\" - separados)<br />\n",
    "7 Medu - escolaridade da mãe (numérico: 0 - nenhuma, 1 - ensino primário (4ª série), 2 - 5ª a 9ª série, 3 - ensino médio ou 4 - ensino superior)<br />\n",
    "8 Fedu - escolaridade do pai (numérico: 0 - nenhuma, 1 - ensino primário (4ª série), 2 - 5ª a 9ª série, 3 - ensino médio ou 4 - ensino superior)<br />\n",
    "9 Mjob - profissão da mãe (nominal: \"professora\", relacionada à \"saúde\", serviços \"civis\" (ex.: administrativo ou policial), \"em_casa\" ou \"outro\")<br />\n",
    "10 Fjob - profissão do pai (nominal: \"professor\", relacionada à \"saúde\", serviços \"civis\" (ex.: administrativo ou policial), \"em_casa\" ou \"outro\")<br />\n",
    "11 reason - motivo para escolher esta escola (nominal: próximo de \"casa\", \"reputação\" da escola, preferência pelo \"curso\" ou \"outro\")<br />\n",
    "12 guardian - responsável pelo estudante (nominal: \"mãe\", \"pai\" ou \"outro\")<br />\n",
    "13 traveltime - tempo de viagem de casa para a escola (numérico: 1 - <15 min., 2 - 15 a 30 min., 3 - 30 min. a 1 hora, ou 4 - >1 hora)<br />\n",
    "14 studytime - tempo semanal de estudo (numérico: 1 - <2 horas, 2 - 2 a 5 horas, 3 - 5 a 10 horas, ou 4 - >10 horas)<br />\n",
    "15 failures - número de reprovações anteriores (numérico: n se 1<=n<3, caso contrário 4)<br />\n",
    "16 schoolsup - suporte educacional extra (binário: sim ou não)<br />\n",
    "17 famsup - suporte educacional familiar (binário: sim ou não)<br />\n",
    "18 paid - aulas extras pagas dentro da disciplina do curso (Matemática ou Português) (binário: sim ou não)<br />\n",
    "19 activities - atividades extracurriculares (binário: sim ou não)<br />\n",
    "20 nursery - frequentou escola infantil (binário: sim ou não)<br />\n",
    "21 higher - deseja cursar ensino superior (binário: sim ou não)<br />\n",
    "22 internet - acesso à Internet em casa (binário: sim ou não)<br />\n",
    "23 romantic - em um relacionamento amoroso (binário: sim ou não)<br />\n",
    "24 famrel - qualidade das relações familiares (numérico: de 1 - muito ruim a 5 - excelente)<br />\n",
    "25 freetime - tempo livre após a escola (numérico: de 1 - muito baixo a 5 - muito alto)<br />\n",
    "26 goout - sair com amigos (numérico: de 1 - muito baixo a 5 - muito alto)<br />\n",
    "27 Dalc - consumo de álcool durante a semana (numérico: de 1 - muito baixo a 5 - muito alto)<br />\n",
    "28 Walc - consumo de álcool no final de semana (numérico: de 1 - muito baixo a 5 - muito alto)<br />\n",
    "29 health - estado atual de saúde (numérico: de 1 - muito ruim a 5 - muito bom)<br />\n",
    "30 absences - número de faltas escolares (numérico: de 0 a 93)<br />"
   ]
  },
  {
   "cell_type": "markdown",
   "id": "2f7687be",
   "metadata": {},
   "source": [
    "## Importações de bibliotecas"
   ]
  },
  {
   "cell_type": "code",
   "execution_count": 1,
   "id": "596d9bd2",
   "metadata": {},
   "outputs": [],
   "source": [
    "# Importação de bibliotecas para análise de dados\n",
    "import pandas as pd\n",
    "import numpy as np\n",
    "\n",
    "# Importação de bibliotecas para visualização de dados\n",
    "import matplotlib.pyplot as plt\n",
    "import seaborn as sns\n",
    "\n",
    "# Importação de bibliotecas do sklearn para classificação\n",
    "from sklearn.model_selection import train_test_split\n",
    "from sklearn.ensemble import RandomForestClassifier\n",
    "from sklearn.metrics import classification_report, confusion_matrix, accuracy_score"
   ]
  },
  {
   "cell_type": "markdown",
   "id": "d23bba90",
   "metadata": {},
   "source": [
    "## Leitura do arquivo em CSV"
   ]
  },
  {
   "cell_type": "code",
   "execution_count": 2,
   "id": "202147c8",
   "metadata": {},
   "outputs": [
    {
     "name": "stdout",
     "output_type": "stream",
     "text": [
      "  school sex  age address famsize Pstatus  Medu  Fedu     Mjob      Fjob  ...  \\\n",
      "0     GP   F   18       U     GT3       A     4     4  at_home   teacher  ...   \n",
      "1     GP   F   17       U     GT3       T     1     1  at_home     other  ...   \n",
      "2     GP   F   15       U     LE3       T     1     1  at_home     other  ...   \n",
      "3     GP   F   15       U     GT3       T     4     2   health  services  ...   \n",
      "4     GP   F   16       U     GT3       T     3     3    other     other  ...   \n",
      "\n",
      "  famrel freetime  goout  Dalc  Walc health absences  G1  G2  G3  \n",
      "0      4        3      4     1     1      3        6   5   6   6  \n",
      "1      5        3      3     1     1      3        4   5   5   6  \n",
      "2      4        3      2     2     3      3       10   7   8  10  \n",
      "3      3        2      2     1     1      5        2  15  14  15  \n",
      "4      4        3      2     1     2      5        4   6  10  10  \n",
      "\n",
      "[5 rows x 33 columns]\n",
      "<class 'pandas.core.frame.DataFrame'>\n",
      "RangeIndex: 395 entries, 0 to 394\n",
      "Data columns (total 33 columns):\n",
      " #   Column      Non-Null Count  Dtype \n",
      "---  ------      --------------  ----- \n",
      " 0   school      395 non-null    object\n",
      " 1   sex         395 non-null    object\n",
      " 2   age         395 non-null    int64 \n",
      " 3   address     395 non-null    object\n",
      " 4   famsize     395 non-null    object\n",
      " 5   Pstatus     395 non-null    object\n",
      " 6   Medu        395 non-null    int64 \n",
      " 7   Fedu        395 non-null    int64 \n",
      " 8   Mjob        395 non-null    object\n",
      " 9   Fjob        395 non-null    object\n",
      " 10  reason      395 non-null    object\n",
      " 11  guardian    395 non-null    object\n",
      " 12  traveltime  395 non-null    int64 \n",
      " 13  studytime   395 non-null    int64 \n",
      " 14  failures    395 non-null    int64 \n",
      " 15  schoolsup   395 non-null    object\n",
      " 16  famsup      395 non-null    object\n",
      " 17  paid        395 non-null    object\n",
      " 18  activities  395 non-null    object\n",
      " 19  nursery     395 non-null    object\n",
      " 20  higher      395 non-null    object\n",
      " 21  internet    395 non-null    object\n",
      " 22  romantic    395 non-null    object\n",
      " 23  famrel      395 non-null    int64 \n",
      " 24  freetime    395 non-null    int64 \n",
      " 25  goout       395 non-null    int64 \n",
      " 26  Dalc        395 non-null    int64 \n",
      " 27  Walc        395 non-null    int64 \n",
      " 28  health      395 non-null    int64 \n",
      " 29  absences    395 non-null    int64 \n",
      " 30  G1          395 non-null    int64 \n",
      " 31  G2          395 non-null    int64 \n",
      " 32  G3          395 non-null    int64 \n",
      "dtypes: int64(16), object(17)\n",
      "memory usage: 102.0+ KB\n",
      "None\n",
      "              age        Medu        Fedu  traveltime   studytime    failures  \\\n",
      "count  395.000000  395.000000  395.000000  395.000000  395.000000  395.000000   \n",
      "mean    16.696203    2.749367    2.521519    1.448101    2.035443    0.334177   \n",
      "std      1.276043    1.094735    1.088201    0.697505    0.839240    0.743651   \n",
      "min     15.000000    0.000000    0.000000    1.000000    1.000000    0.000000   \n",
      "25%     16.000000    2.000000    2.000000    1.000000    1.000000    0.000000   \n",
      "50%     17.000000    3.000000    2.000000    1.000000    2.000000    0.000000   \n",
      "75%     18.000000    4.000000    3.000000    2.000000    2.000000    0.000000   \n",
      "max     22.000000    4.000000    4.000000    4.000000    4.000000    3.000000   \n",
      "\n",
      "           famrel    freetime       goout        Dalc        Walc      health  \\\n",
      "count  395.000000  395.000000  395.000000  395.000000  395.000000  395.000000   \n",
      "mean     3.944304    3.235443    3.108861    1.481013    2.291139    3.554430   \n",
      "std      0.896659    0.998862    1.113278    0.890741    1.287897    1.390303   \n",
      "min      1.000000    1.000000    1.000000    1.000000    1.000000    1.000000   \n",
      "25%      4.000000    3.000000    2.000000    1.000000    1.000000    3.000000   \n",
      "50%      4.000000    3.000000    3.000000    1.000000    2.000000    4.000000   \n",
      "75%      5.000000    4.000000    4.000000    2.000000    3.000000    5.000000   \n",
      "max      5.000000    5.000000    5.000000    5.000000    5.000000    5.000000   \n",
      "\n",
      "         absences          G1          G2          G3  \n",
      "count  395.000000  395.000000  395.000000  395.000000  \n",
      "mean     5.708861   10.908861   10.713924   10.415190  \n",
      "std      8.003096    3.319195    3.761505    4.581443  \n",
      "min      0.000000    3.000000    0.000000    0.000000  \n",
      "25%      0.000000    8.000000    9.000000    8.000000  \n",
      "50%      4.000000   11.000000   11.000000   11.000000  \n",
      "75%      8.000000   13.000000   13.000000   14.000000  \n",
      "max     75.000000   19.000000   19.000000   20.000000  \n"
     ]
    }
   ],
   "source": [
    "# Leitura do dataset student-mat.csv em csv\n",
    "df = pd.read_csv('student-mat.csv', sep=';')\n",
    "# Exibição das 5 primeiras linhas do dataset\n",
    "print(df.head())\n",
    "# Exibição das informações do dataset\n",
    "print(df.info())\n",
    "# Exibição das estatísticas descritivas do dataset\n",
    "print(df.describe())\n"
   ]
  },
  {
   "cell_type": "markdown",
   "id": "b91525e9",
   "metadata": {},
   "source": [
    "## Tratamento dos Dados"
   ]
  },
  {
   "cell_type": "markdown",
   "id": "b9360807",
   "metadata": {},
   "source": [
    "### Identificar valores nulos"
   ]
  },
  {
   "cell_type": "code",
   "execution_count": 3,
   "id": "d9f81daa",
   "metadata": {},
   "outputs": [
    {
     "name": "stdout",
     "output_type": "stream",
     "text": [
      "Series([], dtype: int64)\n"
     ]
    }
   ],
   "source": [
    "# Identificar valores nulos e contar\n",
    "null_values = df.isnull().sum()\n",
    "print(null_values[null_values > 0])  # Exibir apenas colunas com valores nulos"
   ]
  },
  {
   "cell_type": "markdown",
   "id": "7d498ba8",
   "metadata": {},
   "source": [
    "### Identificar valores categóricos"
   ]
  },
  {
   "cell_type": "code",
   "execution_count": 4,
   "id": "562ce3af",
   "metadata": {},
   "outputs": [
    {
     "name": "stdout",
     "output_type": "stream",
     "text": [
      "['school', 'sex', 'address', 'famsize', 'Pstatus', 'Mjob', 'Fjob', 'reason', 'guardian', 'schoolsup', 'famsup', 'paid', 'activities', 'nursery', 'higher', 'internet', 'romantic']\n"
     ]
    }
   ],
   "source": [
    "# Lista com colunas categóricas\n",
    "categorical_cols = df.select_dtypes(include=['object']).columns.tolist()\n",
    "# Exibir colunas categóricas\n",
    "print(categorical_cols)"
   ]
  },
  {
   "cell_type": "markdown",
   "id": "c33aed66",
   "metadata": {},
   "source": [
    "Aplicar one-hot enconding"
   ]
  },
  {
   "cell_type": "code",
   "execution_count": 5,
   "id": "75bc7558",
   "metadata": {},
   "outputs": [
    {
     "data": {
      "text/html": [
       "<div>\n",
       "<style scoped>\n",
       "    .dataframe tbody tr th:only-of-type {\n",
       "        vertical-align: middle;\n",
       "    }\n",
       "\n",
       "    .dataframe tbody tr th {\n",
       "        vertical-align: top;\n",
       "    }\n",
       "\n",
       "    .dataframe thead th {\n",
       "        text-align: right;\n",
       "    }\n",
       "</style>\n",
       "<table border=\"1\" class=\"dataframe\">\n",
       "  <thead>\n",
       "    <tr style=\"text-align: right;\">\n",
       "      <th></th>\n",
       "      <th>age</th>\n",
       "      <th>Medu</th>\n",
       "      <th>Fedu</th>\n",
       "      <th>traveltime</th>\n",
       "      <th>studytime</th>\n",
       "      <th>failures</th>\n",
       "      <th>famrel</th>\n",
       "      <th>freetime</th>\n",
       "      <th>goout</th>\n",
       "      <th>Dalc</th>\n",
       "      <th>...</th>\n",
       "      <th>activities_no</th>\n",
       "      <th>activities_yes</th>\n",
       "      <th>nursery_no</th>\n",
       "      <th>nursery_yes</th>\n",
       "      <th>higher_no</th>\n",
       "      <th>higher_yes</th>\n",
       "      <th>internet_no</th>\n",
       "      <th>internet_yes</th>\n",
       "      <th>romantic_no</th>\n",
       "      <th>romantic_yes</th>\n",
       "    </tr>\n",
       "  </thead>\n",
       "  <tbody>\n",
       "    <tr>\n",
       "      <th>0</th>\n",
       "      <td>18</td>\n",
       "      <td>4</td>\n",
       "      <td>4</td>\n",
       "      <td>2</td>\n",
       "      <td>2</td>\n",
       "      <td>0</td>\n",
       "      <td>4</td>\n",
       "      <td>3</td>\n",
       "      <td>4</td>\n",
       "      <td>1</td>\n",
       "      <td>...</td>\n",
       "      <td>True</td>\n",
       "      <td>False</td>\n",
       "      <td>False</td>\n",
       "      <td>True</td>\n",
       "      <td>False</td>\n",
       "      <td>True</td>\n",
       "      <td>True</td>\n",
       "      <td>False</td>\n",
       "      <td>True</td>\n",
       "      <td>False</td>\n",
       "    </tr>\n",
       "    <tr>\n",
       "      <th>1</th>\n",
       "      <td>17</td>\n",
       "      <td>1</td>\n",
       "      <td>1</td>\n",
       "      <td>1</td>\n",
       "      <td>2</td>\n",
       "      <td>0</td>\n",
       "      <td>5</td>\n",
       "      <td>3</td>\n",
       "      <td>3</td>\n",
       "      <td>1</td>\n",
       "      <td>...</td>\n",
       "      <td>True</td>\n",
       "      <td>False</td>\n",
       "      <td>True</td>\n",
       "      <td>False</td>\n",
       "      <td>False</td>\n",
       "      <td>True</td>\n",
       "      <td>False</td>\n",
       "      <td>True</td>\n",
       "      <td>True</td>\n",
       "      <td>False</td>\n",
       "    </tr>\n",
       "    <tr>\n",
       "      <th>2</th>\n",
       "      <td>15</td>\n",
       "      <td>1</td>\n",
       "      <td>1</td>\n",
       "      <td>1</td>\n",
       "      <td>2</td>\n",
       "      <td>3</td>\n",
       "      <td>4</td>\n",
       "      <td>3</td>\n",
       "      <td>2</td>\n",
       "      <td>2</td>\n",
       "      <td>...</td>\n",
       "      <td>True</td>\n",
       "      <td>False</td>\n",
       "      <td>False</td>\n",
       "      <td>True</td>\n",
       "      <td>False</td>\n",
       "      <td>True</td>\n",
       "      <td>False</td>\n",
       "      <td>True</td>\n",
       "      <td>True</td>\n",
       "      <td>False</td>\n",
       "    </tr>\n",
       "    <tr>\n",
       "      <th>3</th>\n",
       "      <td>15</td>\n",
       "      <td>4</td>\n",
       "      <td>2</td>\n",
       "      <td>1</td>\n",
       "      <td>3</td>\n",
       "      <td>0</td>\n",
       "      <td>3</td>\n",
       "      <td>2</td>\n",
       "      <td>2</td>\n",
       "      <td>1</td>\n",
       "      <td>...</td>\n",
       "      <td>False</td>\n",
       "      <td>True</td>\n",
       "      <td>False</td>\n",
       "      <td>True</td>\n",
       "      <td>False</td>\n",
       "      <td>True</td>\n",
       "      <td>False</td>\n",
       "      <td>True</td>\n",
       "      <td>False</td>\n",
       "      <td>True</td>\n",
       "    </tr>\n",
       "    <tr>\n",
       "      <th>4</th>\n",
       "      <td>16</td>\n",
       "      <td>3</td>\n",
       "      <td>3</td>\n",
       "      <td>1</td>\n",
       "      <td>2</td>\n",
       "      <td>0</td>\n",
       "      <td>4</td>\n",
       "      <td>3</td>\n",
       "      <td>2</td>\n",
       "      <td>1</td>\n",
       "      <td>...</td>\n",
       "      <td>True</td>\n",
       "      <td>False</td>\n",
       "      <td>False</td>\n",
       "      <td>True</td>\n",
       "      <td>False</td>\n",
       "      <td>True</td>\n",
       "      <td>True</td>\n",
       "      <td>False</td>\n",
       "      <td>True</td>\n",
       "      <td>False</td>\n",
       "    </tr>\n",
       "  </tbody>\n",
       "</table>\n",
       "<p>5 rows × 59 columns</p>\n",
       "</div>"
      ],
      "text/plain": [
       "   age  Medu  Fedu  traveltime  studytime  failures  famrel  freetime  goout  \\\n",
       "0   18     4     4           2          2         0       4         3      4   \n",
       "1   17     1     1           1          2         0       5         3      3   \n",
       "2   15     1     1           1          2         3       4         3      2   \n",
       "3   15     4     2           1          3         0       3         2      2   \n",
       "4   16     3     3           1          2         0       4         3      2   \n",
       "\n",
       "   Dalc  ...  activities_no  activities_yes  nursery_no  nursery_yes  \\\n",
       "0     1  ...           True           False       False         True   \n",
       "1     1  ...           True           False        True        False   \n",
       "2     2  ...           True           False       False         True   \n",
       "3     1  ...          False            True       False         True   \n",
       "4     1  ...           True           False       False         True   \n",
       "\n",
       "   higher_no  higher_yes  internet_no  internet_yes  romantic_no  romantic_yes  \n",
       "0      False        True         True         False         True         False  \n",
       "1      False        True        False          True         True         False  \n",
       "2      False        True        False          True         True         False  \n",
       "3      False        True        False          True        False          True  \n",
       "4      False        True         True         False         True         False  \n",
       "\n",
       "[5 rows x 59 columns]"
      ]
     },
     "execution_count": 5,
     "metadata": {},
     "output_type": "execute_result"
    }
   ],
   "source": [
    "df = pd.get_dummies(df, columns=categorical_cols)\n",
    "df.head()"
   ]
  },
  {
   "cell_type": "markdown",
   "id": "6237431c",
   "metadata": {},
   "source": [
    "#### Criar coluna pass_fail"
   ]
  },
  {
   "cell_type": "code",
   "execution_count": 6,
   "id": "b763703a",
   "metadata": {},
   "outputs": [
    {
     "data": {
      "text/html": [
       "<div>\n",
       "<style scoped>\n",
       "    .dataframe tbody tr th:only-of-type {\n",
       "        vertical-align: middle;\n",
       "    }\n",
       "\n",
       "    .dataframe tbody tr th {\n",
       "        vertical-align: top;\n",
       "    }\n",
       "\n",
       "    .dataframe thead th {\n",
       "        text-align: right;\n",
       "    }\n",
       "</style>\n",
       "<table border=\"1\" class=\"dataframe\">\n",
       "  <thead>\n",
       "    <tr style=\"text-align: right;\">\n",
       "      <th></th>\n",
       "      <th>age</th>\n",
       "      <th>Medu</th>\n",
       "      <th>Fedu</th>\n",
       "      <th>traveltime</th>\n",
       "      <th>studytime</th>\n",
       "      <th>failures</th>\n",
       "      <th>famrel</th>\n",
       "      <th>freetime</th>\n",
       "      <th>goout</th>\n",
       "      <th>Dalc</th>\n",
       "      <th>...</th>\n",
       "      <th>activities_yes</th>\n",
       "      <th>nursery_no</th>\n",
       "      <th>nursery_yes</th>\n",
       "      <th>higher_no</th>\n",
       "      <th>higher_yes</th>\n",
       "      <th>internet_no</th>\n",
       "      <th>internet_yes</th>\n",
       "      <th>romantic_no</th>\n",
       "      <th>romantic_yes</th>\n",
       "      <th>pass_fail</th>\n",
       "    </tr>\n",
       "  </thead>\n",
       "  <tbody>\n",
       "    <tr>\n",
       "      <th>0</th>\n",
       "      <td>18</td>\n",
       "      <td>4</td>\n",
       "      <td>4</td>\n",
       "      <td>2</td>\n",
       "      <td>2</td>\n",
       "      <td>0</td>\n",
       "      <td>4</td>\n",
       "      <td>3</td>\n",
       "      <td>4</td>\n",
       "      <td>1</td>\n",
       "      <td>...</td>\n",
       "      <td>False</td>\n",
       "      <td>False</td>\n",
       "      <td>True</td>\n",
       "      <td>False</td>\n",
       "      <td>True</td>\n",
       "      <td>True</td>\n",
       "      <td>False</td>\n",
       "      <td>True</td>\n",
       "      <td>False</td>\n",
       "      <td>fail</td>\n",
       "    </tr>\n",
       "    <tr>\n",
       "      <th>1</th>\n",
       "      <td>17</td>\n",
       "      <td>1</td>\n",
       "      <td>1</td>\n",
       "      <td>1</td>\n",
       "      <td>2</td>\n",
       "      <td>0</td>\n",
       "      <td>5</td>\n",
       "      <td>3</td>\n",
       "      <td>3</td>\n",
       "      <td>1</td>\n",
       "      <td>...</td>\n",
       "      <td>False</td>\n",
       "      <td>True</td>\n",
       "      <td>False</td>\n",
       "      <td>False</td>\n",
       "      <td>True</td>\n",
       "      <td>False</td>\n",
       "      <td>True</td>\n",
       "      <td>True</td>\n",
       "      <td>False</td>\n",
       "      <td>fail</td>\n",
       "    </tr>\n",
       "    <tr>\n",
       "      <th>2</th>\n",
       "      <td>15</td>\n",
       "      <td>1</td>\n",
       "      <td>1</td>\n",
       "      <td>1</td>\n",
       "      <td>2</td>\n",
       "      <td>3</td>\n",
       "      <td>4</td>\n",
       "      <td>3</td>\n",
       "      <td>2</td>\n",
       "      <td>2</td>\n",
       "      <td>...</td>\n",
       "      <td>False</td>\n",
       "      <td>False</td>\n",
       "      <td>True</td>\n",
       "      <td>False</td>\n",
       "      <td>True</td>\n",
       "      <td>False</td>\n",
       "      <td>True</td>\n",
       "      <td>True</td>\n",
       "      <td>False</td>\n",
       "      <td>pass</td>\n",
       "    </tr>\n",
       "    <tr>\n",
       "      <th>3</th>\n",
       "      <td>15</td>\n",
       "      <td>4</td>\n",
       "      <td>2</td>\n",
       "      <td>1</td>\n",
       "      <td>3</td>\n",
       "      <td>0</td>\n",
       "      <td>3</td>\n",
       "      <td>2</td>\n",
       "      <td>2</td>\n",
       "      <td>1</td>\n",
       "      <td>...</td>\n",
       "      <td>True</td>\n",
       "      <td>False</td>\n",
       "      <td>True</td>\n",
       "      <td>False</td>\n",
       "      <td>True</td>\n",
       "      <td>False</td>\n",
       "      <td>True</td>\n",
       "      <td>False</td>\n",
       "      <td>True</td>\n",
       "      <td>pass</td>\n",
       "    </tr>\n",
       "    <tr>\n",
       "      <th>4</th>\n",
       "      <td>16</td>\n",
       "      <td>3</td>\n",
       "      <td>3</td>\n",
       "      <td>1</td>\n",
       "      <td>2</td>\n",
       "      <td>0</td>\n",
       "      <td>4</td>\n",
       "      <td>3</td>\n",
       "      <td>2</td>\n",
       "      <td>1</td>\n",
       "      <td>...</td>\n",
       "      <td>False</td>\n",
       "      <td>False</td>\n",
       "      <td>True</td>\n",
       "      <td>False</td>\n",
       "      <td>True</td>\n",
       "      <td>True</td>\n",
       "      <td>False</td>\n",
       "      <td>True</td>\n",
       "      <td>False</td>\n",
       "      <td>pass</td>\n",
       "    </tr>\n",
       "  </tbody>\n",
       "</table>\n",
       "<p>5 rows × 60 columns</p>\n",
       "</div>"
      ],
      "text/plain": [
       "   age  Medu  Fedu  traveltime  studytime  failures  famrel  freetime  goout  \\\n",
       "0   18     4     4           2          2         0       4         3      4   \n",
       "1   17     1     1           1          2         0       5         3      3   \n",
       "2   15     1     1           1          2         3       4         3      2   \n",
       "3   15     4     2           1          3         0       3         2      2   \n",
       "4   16     3     3           1          2         0       4         3      2   \n",
       "\n",
       "   Dalc  ...  activities_yes  nursery_no  nursery_yes  higher_no  higher_yes  \\\n",
       "0     1  ...           False       False         True      False        True   \n",
       "1     1  ...           False        True        False      False        True   \n",
       "2     2  ...           False       False         True      False        True   \n",
       "3     1  ...            True       False         True      False        True   \n",
       "4     1  ...           False       False         True      False        True   \n",
       "\n",
       "   internet_no  internet_yes  romantic_no  romantic_yes  pass_fail  \n",
       "0         True         False         True         False       fail  \n",
       "1        False          True         True         False       fail  \n",
       "2        False          True         True         False       pass  \n",
       "3        False          True        False          True       pass  \n",
       "4         True         False         True         False       pass  \n",
       "\n",
       "[5 rows x 60 columns]"
      ]
     },
     "execution_count": 6,
     "metadata": {},
     "output_type": "execute_result"
    }
   ],
   "source": [
    "# Criar coluna pass_fail com base na regra, se G3 >= 10, então 'pass', caso contrário 'fail'\n",
    "df['pass_fail'] = np.where(df['G3'] >= 10, 'pass', 'fail')\n",
    "df.head()"
   ]
  },
  {
   "cell_type": "code",
   "execution_count": 7,
   "id": "a8b15243",
   "metadata": {},
   "outputs": [
    {
     "name": "stdout",
     "output_type": "stream",
     "text": [
      "pass_fail\n",
      "pass    265\n",
      "fail    130\n",
      "Name: count, dtype: int64\n"
     ]
    }
   ],
   "source": [
    "# Exibir a contagem de valores únicos na coluna pass_fail\n",
    "print(df['pass_fail'].value_counts())"
   ]
  },
  {
   "cell_type": "markdown",
   "id": "4e0d344e",
   "metadata": {},
   "source": [
    "## Análise dos dados"
   ]
  },
  {
   "cell_type": "markdown",
   "id": "0d9e9dcc",
   "metadata": {},
   "source": [
    "### Correlação entre as notas"
   ]
  },
  {
   "cell_type": "markdown",
   "id": "49a0a47a",
   "metadata": {},
   "source": [
    "Calcular a correlação entre G1, G2 e G3 e apresentar o resultado em gráfico de calor e analisar os resultados"
   ]
  },
  {
   "cell_type": "code",
   "execution_count": 8,
   "id": "7db92ce7",
   "metadata": {},
   "outputs": [
    {
     "name": "stdout",
     "output_type": "stream",
     "text": [
      "          G1        G2        G3\n",
      "G1  1.000000  0.852118  0.801468\n",
      "G2  0.852118  1.000000  0.904868\n",
      "G3  0.801468  0.904868  1.000000\n"
     ]
    },
    {
     "data": {
      "image/png": "[encoded data removed]",
      "text/plain": [
       "<Figure size 800x600 with 2 Axes>"
      ]
     },
     "metadata": {},
     "output_type": "display_data"
    }
   ],
   "source": [
    "# Calcular a correlação entre as variáveis G1, G2 e G3\n",
    "correlation = df[['G1', 'G2', 'G3']].corr()\n",
    "\n",
    "# Exibir a matriz de correlação\n",
    "print(correlation)\n",
    "# Visualizar a matriz de correlação como um mapa de calor\n",
    "plt.figure(figsize=(8, 6))\n",
    "sns.heatmap(correlation, annot=True, cmap='coolwarm', fmt='.2f')\n",
    "plt.title('Mapa de Calor da Correlação entre G1, G2 e G3')\n",
    "plt.show()"
   ]
  },
  {
   "cell_type": "markdown",
   "id": "0be9428d",
   "metadata": {},
   "source": [
    "Nota média por tempo de estudo (study time) - *Chat"
   ]
  },
  {
   "cell_type": "code",
   "execution_count": 9,
   "id": "f363384d",
   "metadata": {},
   "outputs": [
    {
     "name": "stdout",
     "output_type": "stream",
     "text": [
      "   studytime         G3\n",
      "0          1  10.047619\n",
      "1          2  10.171717\n",
      "2          3  11.400000\n",
      "3          4  11.259259\n"
     ]
    },
    {
     "name": "stderr",
     "output_type": "stream",
     "text": [
      "C:\\Users\\mrafael\\AppData\\Local\\Temp\\ipykernel_24992\\3453807887.py:7: FutureWarning: \n",
      "\n",
      "Passing `palette` without assigning `hue` is deprecated and will be removed in v0.14.0. Assign the `x` variable to `hue` and set `legend=False` for the same effect.\n",
      "\n",
      "  ax = sns.barplot(x='studytime', y='G3', data=mean_g3_studytime, palette='viridis')\n"
     ]
    },
    {
     "data": {
      "image/png": "[encoded data removed]",
      "text/plain": [
       "<Figure size 800x600 with 1 Axes>"
      ]
     },
     "metadata": {},
     "output_type": "display_data"
    }
   ],
   "source": [
    "# Calcular a nota média de G3 com base no tempo de estudo (studytime)\n",
    "mean_g3_studytime = df.groupby('studytime')['G3'].mean().reset_index()\n",
    "# Exibir a média de G3 por tempo de estudo\n",
    "print(mean_g3_studytime)\n",
    "# Visualizar a média de G3 por tempo de estudo com valores nas colunas\n",
    "plt.figure(figsize=(8, 6))\n",
    "ax = sns.barplot(x='studytime', y='G3', data=mean_g3_studytime, palette='viridis')\n",
    "\n",
    "# Adicionar os valores de cada média nas colunas\n",
    "for index, row in mean_g3_studytime.iterrows():\n",
    "    ax.text(row['studytime'] - 1, row['G3'] + 0.1, round(row['G3'], 2), color='black', ha=\"center\")\n",
    "\n",
    "plt.title('Média de G3 por Tempo de Estudo')\n",
    "plt.xlabel('Tempo de Estudo (studytime)')\n",
    "plt.ylabel('Média de G3')\n",
    "plt.show()"
   ]
  },
  {
   "cell_type": "markdown",
   "id": "af670060",
   "metadata": {},
   "source": [
    "# Feature Selection\n",
    "Mutual info classification do sklearn"
   ]
  },
  {
   "cell_type": "code",
   "execution_count": 10,
   "id": "4435999f",
   "metadata": {},
   "outputs": [
    {
     "name": "stdout",
     "output_type": "stream",
     "text": [
      "            Feature  Importance\n",
      "14               G2    1.385437\n",
      "13               G1    0.743500\n",
      "42     schoolsup_no    0.237862\n",
      "53       higher_yes    0.212542\n",
      "12         absences    0.194671\n",
      "3        traveltime    0.174447\n",
      "15        school_GP    0.167402\n",
      "5          failures    0.162133\n",
      "56      romantic_no    0.157449\n",
      "40  guardian_mother    0.138692\n"
     ]
    }
   ],
   "source": [
    "from sklearn.feature_selection import mutual_info_classif\n",
    "\n",
    "# Separar as features (X) e a variável alvo (y)\n",
    "X = df.drop(columns=['G3', 'pass_fail'])  # Remover a coluna G3\n",
    "y = df['G3']\n",
    "\n",
    "# Calcular a importância das features usando mutual_info_classif\n",
    "mutual_info = mutual_info_classif(X, y, random_state=42)\n",
    "\n",
    "# Criar um DataFrame para organizar os resultados\n",
    "feature_importance = pd.DataFrame({\n",
    "    'Feature': X.columns,\n",
    "    'Importance': mutual_info\n",
    "})\n",
    "\n",
    "# Ordenar as features pela importância e selecionar as 10 mais importantes\n",
    "top_features = feature_importance.sort_values(by='Importance', ascending=False).head(10)\n",
    "\n",
    "# Exibir as 10 features mais importantes\n",
    "print(top_features)"
   ]
  }
 ],
 "metadata": {
  "kernelspec": {
   "display_name": "venv",
   "language": "python",
   "name": "python3"
  },
  "language_info": {
   "codemirror_mode": {
    "name": "ipython",
    "version": 3
   },
   "file_extension": ".py",
   "mimetype": "text/x-python",
   "name": "python",
   "nbconvert_exporter": "python",
   "pygments_lexer": "ipython3",
   "version": "3.11.6"
  }
 },
 "nbformat": 4,
 "nbformat_minor": 5
}
