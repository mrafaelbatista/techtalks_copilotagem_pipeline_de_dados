{
 "cells": [
  {
   "cell_type": "markdown",
   "id": "20aed9bc",
   "metadata": {},
   "source": [
    "# Texto"
   ]
  },
  {
   "cell_type": "code",
   "execution_count": null,
   "id": "ac597009",
   "metadata": {
    "vscode": {
     "languageId": "plaintext"
    }
   },
   "outputs": [],
   "source": [
    "print('Olá, mundo!)"
   ]
  }
 ],
 "metadata": {
  "language_info": {
   "name": "python"
  }
 },
 "nbformat": 4,
 "nbformat_minor": 5
}
